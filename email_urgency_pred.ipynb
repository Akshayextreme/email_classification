{
 "cells": [
  {
   "cell_type": "code",
   "execution_count": 1,
   "id": "8852b2fb-e808-43d3-aa4b-1e85f638c398",
   "metadata": {},
   "outputs": [],
   "source": [
    "import pandas as pd\n",
    "import nltk\n",
    "import re\n",
    "import string\n",
    "from nltk.stem import WordNetLemmatizer"
   ]
  },
  {
   "cell_type": "code",
   "execution_count": 2,
   "id": "709435fb-6412-4a9d-9bc7-6a5b703321ba",
   "metadata": {},
   "outputs": [],
   "source": [
    "df = pd.read_csv(\"email_data.csv\")"
   ]
  },
  {
   "cell_type": "code",
   "execution_count": 3,
   "id": "27042d4f-ee29-4440-9218-1804d012bda9",
   "metadata": {},
   "outputs": [
    {
     "data": {
      "text/html": [
       "<div>\n",
       "<style scoped>\n",
       "    .dataframe tbody tr th:only-of-type {\n",
       "        vertical-align: middle;\n",
       "    }\n",
       "\n",
       "    .dataframe tbody tr th {\n",
       "        vertical-align: top;\n",
       "    }\n",
       "\n",
       "    .dataframe thead th {\n",
       "        text-align: right;\n",
       "    }\n",
       "</style>\n",
       "<table border=\"1\" class=\"dataframe\">\n",
       "  <thead>\n",
       "    <tr style=\"text-align: right;\">\n",
       "      <th></th>\n",
       "      <th>Unnamed: 0</th>\n",
       "      <th>user</th>\n",
       "      <th>folder</th>\n",
       "      <th>Date</th>\n",
       "      <th>From</th>\n",
       "      <th>To</th>\n",
       "      <th>Subject</th>\n",
       "      <th>X-From</th>\n",
       "      <th>X-To</th>\n",
       "      <th>X-cc</th>\n",
       "      <th>X-bcc</th>\n",
       "      <th>body</th>\n",
       "    </tr>\n",
       "  </thead>\n",
       "  <tbody>\n",
       "    <tr>\n",
       "      <th>0</th>\n",
       "      <td>14</td>\n",
       "      <td>allen-p</td>\n",
       "      <td>_sent_mail</td>\n",
       "      <td>Thu, 5 Oct 2000 06:26:00 -0700 (PDT)</td>\n",
       "      <td>phillip.allen@enron.com</td>\n",
       "      <td>david.delainey@enron.com</td>\n",
       "      <td>NaN</td>\n",
       "      <td>Phillip K Allen</td>\n",
       "      <td>David W Delainey</td>\n",
       "      <td>NaN</td>\n",
       "      <td>NaN</td>\n",
       "      <td>Dave, \\n\\n Here are the names of the west desk...</td>\n",
       "    </tr>\n",
       "    <tr>\n",
       "      <th>1</th>\n",
       "      <td>15</td>\n",
       "      <td>allen-p</td>\n",
       "      <td>_sent_mail</td>\n",
       "      <td>Thu, 5 Oct 2000 05:55:00 -0700 (PDT)</td>\n",
       "      <td>phillip.allen@enron.com</td>\n",
       "      <td>paula.harris@enron.com</td>\n",
       "      <td>Re: 2001 Margin Plan</td>\n",
       "      <td>Phillip K Allen</td>\n",
       "      <td>Paula Harris</td>\n",
       "      <td>NaN</td>\n",
       "      <td>NaN</td>\n",
       "      <td>Paula,\\n\\n 35 million is fine\\n\\nPhillip</td>\n",
       "    </tr>\n",
       "    <tr>\n",
       "      <th>2</th>\n",
       "      <td>16</td>\n",
       "      <td>allen-p</td>\n",
       "      <td>_sent_mail</td>\n",
       "      <td>Wed, 4 Oct 2000 09:23:00 -0700 (PDT)</td>\n",
       "      <td>phillip.allen@enron.com</td>\n",
       "      <td>ina.rangel@enron.com</td>\n",
       "      <td>Var, Reporting and Resources Meeting</td>\n",
       "      <td>Phillip K Allen</td>\n",
       "      <td>Ina Rangel</td>\n",
       "      <td>NaN</td>\n",
       "      <td>NaN</td>\n",
       "      <td>---------------------- Forwarded by Phillip K ...</td>\n",
       "    </tr>\n",
       "  </tbody>\n",
       "</table>\n",
       "</div>"
      ],
      "text/plain": [
       "   Unnamed: 0     user      folder                                  Date  \\\n",
       "0          14  allen-p  _sent_mail  Thu, 5 Oct 2000 06:26:00 -0700 (PDT)   \n",
       "1          15  allen-p  _sent_mail  Thu, 5 Oct 2000 05:55:00 -0700 (PDT)   \n",
       "2          16  allen-p  _sent_mail  Wed, 4 Oct 2000 09:23:00 -0700 (PDT)   \n",
       "\n",
       "                      From                        To  \\\n",
       "0  phillip.allen@enron.com  david.delainey@enron.com   \n",
       "1  phillip.allen@enron.com    paula.harris@enron.com   \n",
       "2  phillip.allen@enron.com      ina.rangel@enron.com   \n",
       "\n",
       "                                Subject           X-From              X-To  \\\n",
       "0                                   NaN  Phillip K Allen  David W Delainey   \n",
       "1                  Re: 2001 Margin Plan  Phillip K Allen      Paula Harris   \n",
       "2  Var, Reporting and Resources Meeting  Phillip K Allen        Ina Rangel   \n",
       "\n",
       "  X-cc X-bcc                                               body  \n",
       "0  NaN   NaN  Dave, \\n\\n Here are the names of the west desk...  \n",
       "1  NaN   NaN           Paula,\\n\\n 35 million is fine\\n\\nPhillip  \n",
       "2  NaN   NaN  ---------------------- Forwarded by Phillip K ...  "
      ]
     },
     "execution_count": 3,
     "metadata": {},
     "output_type": "execute_result"
    }
   ],
   "source": [
    "df.head(3)"
   ]
  },
  {
   "cell_type": "code",
   "execution_count": 4,
   "id": "dd17c958-7ff6-443e-b94e-22761bab4bea",
   "metadata": {},
   "outputs": [
    {
     "data": {
      "text/plain": [
       "(55958, 12)"
      ]
     },
     "execution_count": 4,
     "metadata": {},
     "output_type": "execute_result"
    }
   ],
   "source": [
    "df.shape"
   ]
  },
  {
   "cell_type": "code",
   "execution_count": 5,
   "id": "3e37cdab-de38-414a-be85-322243c57d20",
   "metadata": {},
   "outputs": [
    {
     "data": {
      "text/plain": [
       "Unnamed: 0        0\n",
       "user              0\n",
       "folder            0\n",
       "Date              0\n",
       "From              0\n",
       "To             2821\n",
       "Subject        1842\n",
       "X-From            1\n",
       "X-To           1053\n",
       "X-cc          42447\n",
       "X-bcc         55921\n",
       "body              0\n",
       "dtype: int64"
      ]
     },
     "execution_count": 5,
     "metadata": {},
     "output_type": "execute_result"
    }
   ],
   "source": [
    "df.isna().sum()"
   ]
  },
  {
   "cell_type": "markdown",
   "id": "bcae316b-4e66-47a6-b8a6-fa35d4883850",
   "metadata": {},
   "source": [
    "Subject column has some NA values, hence using body feature"
   ]
  },
  {
   "cell_type": "code",
   "execution_count": 6,
   "id": "e9dc1419-45f2-44af-b5d6-07836f135e44",
   "metadata": {},
   "outputs": [
    {
     "name": "stderr",
     "output_type": "stream",
     "text": [
      "[nltk_data] Downloading package stopwords to /home/akshay/nltk_data...\n",
      "[nltk_data]   Package stopwords is already up-to-date!\n"
     ]
    }
   ],
   "source": [
    "#stopword removal and lemmatization\n",
    "stopwords = nltk.corpus.stopwords.words('english')\n",
    "nltk.download('stopwords')\n",
    "\n",
    "lemmatizer = WordNetLemmatizer()"
   ]
  },
  {
   "cell_type": "code",
   "execution_count": 7,
   "id": "6d548f7a-e417-4704-80be-0d4eb8ae78c0",
   "metadata": {},
   "outputs": [],
   "source": [
    "def clean_text(text):\n",
    "    # Convert text to lowercase\n",
    "    text = text.lower()\n",
    "    # Remove punctuation\n",
    "    text = re.sub(\"[%s]\" % re.escape(string.punctuation), \"\", text)\n",
    "    # Remove non-Roman characters\n",
    "    text = re.sub(\"([^\\x00-\\x7F])+\", \" \", text)\n",
    "    text = re.sub(\"\\n\", \" \", text)\n",
    "    \n",
    "    return text"
   ]
  },
  {
   "cell_type": "code",
   "execution_count": 8,
   "id": "b312dd8a-a4ee-441d-b5b6-9924ce7b42b7",
   "metadata": {},
   "outputs": [],
   "source": [
    "def lemmatize_text(text):\n",
    "    text = [lemmatizer.lemmatize(w) for w in text.split()]\n",
    "    text = \" \".join(text)\n",
    "    return text"
   ]
  },
  {
   "cell_type": "code",
   "execution_count": 9,
   "id": "c328ceb6-5ff5-44df-b0d6-1c13d9895f5d",
   "metadata": {},
   "outputs": [],
   "source": [
    "df['body_clean'] = df['body'].apply(lambda x: clean_text(x))"
   ]
  },
  {
   "cell_type": "code",
   "execution_count": 10,
   "id": "12069262-8128-4b9b-99f8-0e625e3016f1",
   "metadata": {},
   "outputs": [],
   "source": [
    "df['body_clean'] = df.body_clean.apply(lemmatize_text)"
   ]
  },
  {
   "cell_type": "code",
   "execution_count": 11,
   "id": "c7653e60-1b6c-4f29-8a8c-e2865ac1b5c6",
   "metadata": {},
   "outputs": [
    {
     "data": {
      "text/html": [
       "<div>\n",
       "<style scoped>\n",
       "    .dataframe tbody tr th:only-of-type {\n",
       "        vertical-align: middle;\n",
       "    }\n",
       "\n",
       "    .dataframe tbody tr th {\n",
       "        vertical-align: top;\n",
       "    }\n",
       "\n",
       "    .dataframe thead th {\n",
       "        text-align: right;\n",
       "    }\n",
       "</style>\n",
       "<table border=\"1\" class=\"dataframe\">\n",
       "  <thead>\n",
       "    <tr style=\"text-align: right;\">\n",
       "      <th></th>\n",
       "      <th>body</th>\n",
       "      <th>body_clean</th>\n",
       "    </tr>\n",
       "  </thead>\n",
       "  <tbody>\n",
       "    <tr>\n",
       "      <th>0</th>\n",
       "      <td>Dave, \\n\\n Here are the names of the west desk...</td>\n",
       "      <td>dave here are the name of the west desk member...</td>\n",
       "    </tr>\n",
       "    <tr>\n",
       "      <th>1</th>\n",
       "      <td>Paula,\\n\\n 35 million is fine\\n\\nPhillip</td>\n",
       "      <td>paula 35 million is fine phillip</td>\n",
       "    </tr>\n",
       "  </tbody>\n",
       "</table>\n",
       "</div>"
      ],
      "text/plain": [
       "                                                body  \\\n",
       "0  Dave, \\n\\n Here are the names of the west desk...   \n",
       "1           Paula,\\n\\n 35 million is fine\\n\\nPhillip   \n",
       "\n",
       "                                          body_clean  \n",
       "0  dave here are the name of the west desk member...  \n",
       "1                   paula 35 million is fine phillip  "
      ]
     },
     "execution_count": 11,
     "metadata": {},
     "output_type": "execute_result"
    }
   ],
   "source": [
    "df[[\"body\", \"body_clean\"]].head(2)"
   ]
  },
  {
   "cell_type": "code",
   "execution_count": null,
   "id": "21acd541-69d2-4f2a-a20a-35bde2322296",
   "metadata": {},
   "outputs": [],
   "source": []
  },
  {
   "cell_type": "code",
   "execution_count": 86,
   "id": "36ac8628-20f3-4dad-9df7-ed47bfc8ba8e",
   "metadata": {},
   "outputs": [],
   "source": [
    "from sklearn.feature_extraction.text import TfidfVectorizer, CountVectorizer\n",
    "\n",
    "tfidf_vectorizer = TfidfVectorizer(stop_words=\"english\", max_features=100)\n",
    "tfidf_matrix = tfidf_vectorizer.fit_transform(df.body_clean)"
   ]
  },
  {
   "cell_type": "code",
   "execution_count": 13,
   "id": "5a883c85-f566-4f7e-8477-01828af9f01a",
   "metadata": {},
   "outputs": [
    {
     "data": {
      "text/plain": [
       "(55958, 100)"
      ]
     },
     "execution_count": 13,
     "metadata": {},
     "output_type": "execute_result"
    }
   ],
   "source": [
    "tfidf_matrix.shape"
   ]
  },
  {
   "cell_type": "code",
   "execution_count": 15,
   "id": "6da4c787-b5c5-4a5d-98bf-6ef6e5e601ed",
   "metadata": {},
   "outputs": [],
   "source": [
    "test_string = [\"miss document\"]\n",
    "test_vec = tfidf_vectorizer.transform(test_string)"
   ]
  },
  {
   "cell_type": "code",
   "execution_count": 78,
   "id": "9cda52c4-1f50-4c3d-b212-fae341cafd5b",
   "metadata": {},
   "outputs": [],
   "source": [
    "from sklearn.metrics.pairwise import linear_kernel\n",
    "\n",
    "# Compute cosine similarity matrix\n",
    "cosine_sim = linear_kernel(tfidf_matrix[:1000, :], test_vec)"
   ]
  },
  {
   "cell_type": "code",
   "execution_count": 80,
   "id": "f39cb59e-53b1-4989-9eb7-9d587158780a",
   "metadata": {},
   "outputs": [],
   "source": [
    "import numpy as np\n",
    "interest_idx = list(np.where(cosine_sim > 0.1)[0])\n",
    "# interest_idx"
   ]
  },
  {
   "cell_type": "code",
   "execution_count": 81,
   "id": "37d4faed-4812-4c12-bbcf-78f4bb540218",
   "metadata": {},
   "outputs": [],
   "source": [
    "interest_text = df.body_clean.iloc[interest_idx]"
   ]
  },
  {
   "cell_type": "raw",
   "id": "9ae1a944-995a-4eec-b5c3-ff55f7520b65",
   "metadata": {},
   "source": [
    "interest_text"
   ]
  },
  {
   "cell_type": "code",
   "execution_count": 82,
   "id": "9dd79815-67c0-4788-aca0-c0f66dfca068",
   "metadata": {},
   "outputs": [],
   "source": [
    "from collections import Counter\n",
    "from nltk.corpus import stopwords"
   ]
  },
  {
   "cell_type": "code",
   "execution_count": 83,
   "id": "e6ccfe6a-3c09-4dbb-8a6e-7430462c2346",
   "metadata": {},
   "outputs": [],
   "source": [
    "def get_most_common_words(df):\n",
    "    stop = set(stopwords.words(\"english\"))\n",
    "    corpus = [word for i in df.str.split().values.tolist() for word in i if (word not in stop)]\n",
    "    most_common = Counter(corpus).most_common(10)\n",
    "    words, frequency = [], []\n",
    "    for word, count in most_common:\n",
    "        words.append(word)\n",
    "        frequency.append(count)\n",
    "        \n",
    "    return words, frequency"
   ]
  },
  {
   "cell_type": "code",
   "execution_count": 84,
   "id": "cf85115a-9344-4fe7-bba8-fe8c9d2ff855",
   "metadata": {},
   "outputs": [],
   "source": [
    "words, freq = get_most_common_words(interest_text)"
   ]
  },
  {
   "cell_type": "code",
   "execution_count": 85,
   "id": "cfb8059e-befe-4c6b-bf93-821549bd27ea",
   "metadata": {},
   "outputs": [
    {
     "data": {
      "text/plain": [
       "<AxesSubplot:>"
      ]
     },
     "execution_count": 85,
     "metadata": {},
     "output_type": "execute_result"
    },
    {
     "data": {
      "image/png": "[encoded data removed]",
      "text/plain": [
       "<Figure size 432x288 with 1 Axes>"
      ]
     },
     "metadata": {
      "needs_background": "light"
     },
     "output_type": "display_data"
    }
   ],
   "source": [
    "import seaborn as sns\n",
    "sns.barplot(x = freq, y = words)"
   ]
  },
  {
   "cell_type": "code",
   "execution_count": null,
   "id": "6f252ade-1d2e-4c35-b7ae-6b1b833f64b7",
   "metadata": {},
   "outputs": [],
   "source": []
  },
  {
   "cell_type": "code",
   "execution_count": 89,
   "id": "ea8ff36c-a5fd-47b4-b643-1b11ecc0480e",
   "metadata": {},
   "outputs": [],
   "source": [
    "def get_ngram_freq(n, df):\n",
    "    stop = set(stopwords.words(\"english\"))\n",
    "    vectorizer = CountVectorizer(stop_words = stop, \n",
    "                          ngram_range = (n, n))\n",
    "\n",
    "    # Matrix of ngrams\n",
    "    bag_words = vectorizer.fit_transform(df)\n",
    "\n",
    "    # Count frequency of ngrams\n",
    "    count_values = bag_words.toarray().sum(axis=0)\n",
    "\n",
    "    # Create DataFrame from ngram frequencies\n",
    "    ngram_freq = pd.DataFrame([(count_values[i], k) for k, i in vec.vocabulary_.items()])\n",
    "    ngram_freq.columns = [\"frequency\", \"ngram\"]\n",
    "    ngram_freq.sort_values(by = \"frequency\",  ascending = False, inplace = True)\n",
    "\n",
    "    return ngram_freq"
   ]
  },
  {
   "cell_type": "code",
   "execution_count": 90,
   "id": "54cad7e4-e204-496f-850a-86344d86e9d3",
   "metadata": {},
   "outputs": [],
   "source": [
    "freq_2 = get_ngram_freq(2, interest_text)"
   ]
  },
  {
   "cell_type": "code",
   "execution_count": 91,
   "id": "ad183549-adcd-4749-90c5-8ada30a36c76",
   "metadata": {},
   "outputs": [
    {
     "data": {
      "text/html": [
       "<div>\n",
       "<style scoped>\n",
       "    .dataframe tbody tr th:only-of-type {\n",
       "        vertical-align: middle;\n",
       "    }\n",
       "\n",
       "    .dataframe tbody tr th {\n",
       "        vertical-align: top;\n",
       "    }\n",
       "\n",
       "    .dataframe thead th {\n",
       "        text-align: right;\n",
       "    }\n",
       "</style>\n",
       "<table border=\"1\" class=\"dataframe\">\n",
       "  <thead>\n",
       "    <tr style=\"text-align: right;\">\n",
       "      <th></th>\n",
       "      <th>frequency</th>\n",
       "      <th>ngram</th>\n",
       "    </tr>\n",
       "  </thead>\n",
       "  <tbody>\n",
       "    <tr>\n",
       "      <th>1557</th>\n",
       "      <td>14</td>\n",
       "      <td>theoretical pl</td>\n",
       "    </tr>\n",
       "    <tr>\n",
       "      <th>555</th>\n",
       "      <td>13</td>\n",
       "      <td>original message</td>\n",
       "    </tr>\n",
       "    <tr>\n",
       "      <th>1556</th>\n",
       "      <td>12</td>\n",
       "      <td>greek theoretical</td>\n",
       "    </tr>\n",
       "    <tr>\n",
       "      <th>1628</th>\n",
       "      <td>11</td>\n",
       "      <td>cc subject</td>\n",
       "    </tr>\n",
       "    <tr>\n",
       "      <th>1266</th>\n",
       "      <td>9</td>\n",
       "      <td>would like</td>\n",
       "    </tr>\n",
       "    <tr>\n",
       "      <th>...</th>\n",
       "      <td>...</td>\n",
       "      <td>...</td>\n",
       "    </tr>\n",
       "    <tr>\n",
       "      <th>1141</th>\n",
       "      <td>1</td>\n",
       "      <td>distinction utility</td>\n",
       "    </tr>\n",
       "    <tr>\n",
       "      <th>1140</th>\n",
       "      <td>1</td>\n",
       "      <td>make distinction</td>\n",
       "    </tr>\n",
       "    <tr>\n",
       "      <th>1139</th>\n",
       "      <td>1</td>\n",
       "      <td>also make</td>\n",
       "    </tr>\n",
       "    <tr>\n",
       "      <th>1138</th>\n",
       "      <td>1</td>\n",
       "      <td>line also</td>\n",
       "    </tr>\n",
       "    <tr>\n",
       "      <th>2577</th>\n",
       "      <td>1</td>\n",
       "      <td>725cpucconfidentiality proposaldoc</td>\n",
       "    </tr>\n",
       "  </tbody>\n",
       "</table>\n",
       "<p>2578 rows × 2 columns</p>\n",
       "</div>"
      ],
      "text/plain": [
       "      frequency                               ngram\n",
       "1557         14                      theoretical pl\n",
       "555          13                    original message\n",
       "1556         12                   greek theoretical\n",
       "1628         11                          cc subject\n",
       "1266          9                          would like\n",
       "...         ...                                 ...\n",
       "1141          1                 distinction utility\n",
       "1140          1                    make distinction\n",
       "1139          1                           also make\n",
       "1138          1                           line also\n",
       "2577          1  725cpucconfidentiality proposaldoc\n",
       "\n",
       "[2578 rows x 2 columns]"
      ]
     },
     "execution_count": 91,
     "metadata": {},
     "output_type": "execute_result"
    }
   ],
   "source": [
    "freq_2"
   ]
  },
  {
   "cell_type": "code",
   "execution_count": 94,
   "id": "00d3eae1-1363-4e44-827d-e5a9eb280d1a",
   "metadata": {},
   "outputs": [
    {
     "data": {
      "text/plain": [
       "<AxesSubplot:xlabel='frequency', ylabel='ngram'>"
      ]
     },
     "execution_count": 94,
     "metadata": {},
     "output_type": "execute_result"
    },
    {
     "data": {
      "image/png": "[encoded data removed]",
      "text/plain": [
       "<Figure size 432x288 with 1 Axes>"
      ]
     },
     "metadata": {
      "needs_background": "light"
     },
     "output_type": "display_data"
    }
   ],
   "source": [
    "sns.barplot(freq_2.head(10), x = \"frequency\", y = \"ngram\")"
   ]
  },
  {
   "cell_type": "code",
   "execution_count": null,
   "id": "d447b88a-60f3-4069-a8cd-b3b998e74706",
   "metadata": {},
   "outputs": [],
   "source": []
  }
 ],
 "metadata": {
  "kernelspec": {
   "display_name": "Python 3 (ipykernel)",
   "language": "python",
   "name": "python3"
  },
  "language_info": {
   "codemirror_mode": {
    "name": "ipython",
    "version": 3
   },
   "file_extension": ".py",
   "mimetype": "text/x-python",
   "name": "python",
   "nbconvert_exporter": "python",
   "pygments_lexer": "ipython3",
   "version": "3.8.10"
  }
 },
 "nbformat": 4,
 "nbformat_minor": 5
}
